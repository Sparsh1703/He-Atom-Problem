{
  "nbformat": 4,
  "nbformat_minor": 0,
  "metadata": {
    "colab": {
      "provenance": []
    },
    "kernelspec": {
      "name": "python3",
      "display_name": "Python 3"
    },
    "language_info": {
      "name": "python"
    }
  },
  "cells": [
    {
      "cell_type": "code",
      "execution_count": 1,
      "metadata": {
        "colab": {
          "base_uri": "https://localhost:8080/",
          "height": 39
        },
        "id": "5x2gR0j_L031",
        "outputId": "731f9224-d31c-4ed1-f2e9-3c16ba602809"
      },
      "outputs": [
        {
          "output_type": "execute_result",
          "data": {
            "text/plain": [
              "log(6.38905609893064*y)"
            ],
            "text/latex": "$\\displaystyle \\log{\\left(6.38905609893064 y \\right)}$"
          },
          "metadata": {},
          "execution_count": 1
        }
      ],
      "source": [
        "import sympy as smp\n",
        "import numpy as np\n",
        "\n",
        "# Define the symbolic variable and function\n",
        "x, y = smp.symbols('x y')\n",
        "C = np.exp(2) - 1\n",
        "f = x**2\n",
        "p = smp.exp(x)/C\n",
        "\n",
        "# Define the equation y = p(x)\n",
        "equation = smp.Eq(y, p)\n",
        "\n",
        "# Solve for x in terms of y\n",
        "inverse_function = smp.solve(equation, x)[0]\n",
        "\n",
        "# Display the inverse function\n",
        "inverse_function"
      ]
    },
    {
      "cell_type": "code",
      "source": [
        "I = smp.integrate(f, (x, 0, 2))\n",
        "I"
      ],
      "metadata": {
        "colab": {
          "base_uri": "https://localhost:8080/",
          "height": 51
        },
        "id": "rP7avxBtNhas",
        "outputId": "765e045e-12e9-4789-fe30-7f6ef7e06b37"
      },
      "execution_count": 2,
      "outputs": [
        {
          "output_type": "execute_result",
          "data": {
            "text/plain": [
              "8/3"
            ],
            "text/latex": "$\\displaystyle \\frac{8}{3}$"
          },
          "metadata": {},
          "execution_count": 2
        }
      ]
    },
    {
      "cell_type": "code",
      "source": [
        "8/3"
      ],
      "metadata": {
        "colab": {
          "base_uri": "https://localhost:8080/"
        },
        "id": "OtsdROgqN7gp",
        "outputId": "a7e00276-5e64-4551-96bb-7ce010075150"
      },
      "execution_count": 3,
      "outputs": [
        {
          "output_type": "execute_result",
          "data": {
            "text/plain": [
              "2.6666666666666665"
            ]
          },
          "metadata": {},
          "execution_count": 3
        }
      ]
    },
    {
      "cell_type": "code",
      "source": [
        "import numpy as np\n",
        "\n",
        "# Define the function f(x) = x^2\n",
        "def f(x):\n",
        "    return x**2\n",
        "\n",
        "# Define the target distribution p(x), here we use a uniform distribution over [0, 1]\n",
        "def p(x):\n",
        "    C = np.exp(2) - 1\n",
        "    return np.exp(x)/C\n",
        "\n",
        "# Define the inverse of the target distribution p(x)\n",
        "def inverse_func(y):\n",
        "  C = np.exp(2) - 1\n",
        "  return np.log(C*y)\n",
        "\n",
        "# Metropolis algorithm for sampling from the uniform distribution over [0, 1]\n",
        "def metropolis_sampling(f,p, inverse_func, y_initial, num_samples):\n",
        "    Range_value = 0.099\n",
        "    current_y = y_initial\n",
        "    current_x = inverse_func(current_y)\n",
        "    samples = [current_x]\n",
        "    num_accept = 0\n",
        "\n",
        "    for _ in range(num_samples):\n",
        "\n",
        "        candidate_y = current_y + Range_value * (np.random.uniform(0, 1, 1) - 0.5)\n",
        "        candidate_y = candidate_y.item()\n",
        "        candidate_x = inverse_func(candidate_y)\n",
        "\n",
        "        # Ensure the candidate falls within the bounds [0, 2]\n",
        "        if 0 <= candidate_x <= 2:\n",
        "          acceptance_prob = min(1, p(candidate_x) / p(current_x))\n",
        "\n",
        "          if np.random.uniform() < acceptance_prob:\n",
        "            current_x = candidate_x\n",
        "            current_y = candidate_y\n",
        "            num_accept += 1\n",
        "\n",
        "        samples.append(current_x)\n",
        "\n",
        "    return np.array(samples), num_accept\n",
        "\n",
        "# Monte Carlo integration using samples\n",
        "def monte_carlo_integration(samples, f):\n",
        "    values_f = np.array([f(sample) for sample in samples])\n",
        "    return np.mean(values_f)\n",
        "\n",
        "\n",
        "# Parameters\n",
        "y_initial = 0.88  # Initial guess\n",
        "num_samples = 1000000  # Number of samples\n",
        "\n",
        "\n",
        "# Generate samples using Metropolis algorithm\n",
        "samples, num_accept = metropolis_sampling(f,p, inverse_func, y_initial, num_samples )\n",
        "\n",
        "# Perform Monte Carlo integration\n",
        "integral = monte_carlo_integration(samples, f)\n",
        "\n",
        "print(\"Estimated integral:\", integral)\n",
        "print(\"Acceptance rate:\", num_accept / num_samples)\n",
        "print(\"Number of samples accepted:\", num_accept)\n",
        "\n",
        "# With the same Range_value, I ran the code many times. Every time I get different estimated integral values. I didn't observe any convergence. Same is true for other range values."
      ],
      "metadata": {
        "colab": {
          "base_uri": "https://localhost:8080/"
        },
        "id": "RE939DpES-3a",
        "outputId": "0db6cdb6-36f8-47b7-d62d-b1b4b3ce16fc"
      },
      "execution_count": 4,
      "outputs": [
        {
          "output_type": "stream",
          "name": "stdout",
          "text": [
            "Estimated integral: 2.566554159129268\n",
            "Acceptance rate: 0.956442\n",
            "Number of samples accepted: 956442\n"
          ]
        }
      ]
    },
    {
      "cell_type": "code",
      "source": [],
      "metadata": {
        "id": "VRg-hStTTF6C"
      },
      "execution_count": 4,
      "outputs": []
    }
  ]
}